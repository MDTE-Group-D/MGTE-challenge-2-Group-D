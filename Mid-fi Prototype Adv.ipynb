{
 "cells": [
  {
   "cell_type": "markdown",
   "metadata": {},
   "source": [
    "# This is our Dataset"
   ]
  },
  {
   "cell_type": "code",
   "execution_count": 1,
   "metadata": {},
   "outputs": [],
   "source": [
    "import os\n",
    "import wave\n",
    "import threading\n",
    "import numpy as np\n",
    "import pandas as pd\n",
    "import tkinter as tk\n",
    "import sounddevice as sd\n",
    "from datetime import datetime\n",
    "from PIL import Image, ImageTk\n",
    "import speech_recognition as sr"
   ]
  },
  {
   "cell_type": "code",
   "execution_count": null,
   "metadata": {},
   "outputs": [],
   "source": [
    "import kagglehub\n",
    "\n",
    "# Download latest version\n",
    "path = kagglehub.dataset_download(\"tejpal123/human-disease-prediction-dataset\")\n",
    "\n",
    "print(\"Path to dataset files:\", path)"
   ]
  },
  {
   "cell_type": "code",
   "execution_count": null,
   "metadata": {},
   "outputs": [],
   "source": [
    "\n",
    "import kagglehub\n",
    "\n",
    "# Download latest version\n",
    "path = kagglehub.dataset_download(\"kaggle/us-baby-names\")\n",
    "\n",
    "print(\"Path to dataset files:\", path)"
   ]
  },
  {
   "cell_type": "code",
   "execution_count": 2,
   "metadata": {},
   "outputs": [],
   "source": [
    "Names = pd.read_csv(\"NationalNames.csv\")\n",
    "Name_list=Names['Name'].unique()\n",
    "voice_name_list=[]\n",
    "recoreded_disease = []\n",
    "disease_dataset = pd.read_csv('Training.csv')\n",
    "disease = []"
   ]
  },
  {
   "cell_type": "code",
   "execution_count": 3,
   "metadata": {},
   "outputs": [],
   "source": [
    "columnss = disease_dataset.columns"
   ]
  },
  {
   "cell_type": "code",
   "execution_count": 4,
   "metadata": {},
   "outputs": [],
   "source": [
    "for i in disease_dataset.columns:\n",
    "    disease.append(i)"
   ]
  },
  {
   "cell_type": "code",
   "execution_count": 5,
   "metadata": {},
   "outputs": [
    {
     "data": {
      "text/plain": [
       "'Unnamed: 133'"
      ]
     },
     "execution_count": 5,
     "metadata": {},
     "output_type": "execute_result"
    }
   ],
   "source": [
    "disease.pop(-1)"
   ]
  },
  {
   "cell_type": "code",
   "execution_count": 6,
   "metadata": {},
   "outputs": [],
   "source": [
    "disease_dataframe = pd.DataFrame(disease, columns= ['Disease name'])"
   ]
  },
  {
   "cell_type": "code",
   "execution_count": 7,
   "metadata": {},
   "outputs": [],
   "source": [
    "disease_dataframe.to_csv('diseasename.csv', index= False)"
   ]
  },
  {
   "cell_type": "code",
   "execution_count": 8,
   "metadata": {},
   "outputs": [],
   "source": [
    "disease = [i.lower() for i in disease]\n",
    "disease = [i.replace(\"_\", \" \") for i in disease]"
   ]
  },
  {
   "cell_type": "markdown",
   "metadata": {},
   "source": [
    "# Dashboard"
   ]
  },
  {
   "cell_type": "code",
   "execution_count": 9,
   "metadata": {},
   "outputs": [],
   "source": [
    "save_directory = \"C:\\\\Users\\\\Ali khatami\\\\Desktop\\\\Uni\\\\Challenge2\\\\prototype\\\\saved.csv\"\n",
    "\n",
    "# Ensure the directory exists\n",
    "if not os.path.exists(save_directory):\n",
    "    os.makedirs(save_directory)\n",
    "\n",
    "# Audio settings\n",
    "SAMPLE_RATE = 44100  # Sampling rate in Hz\n",
    "CHANNELS = 2  # Stereo\n",
    "recording = False  # Global flag to control recording\n",
    "audio_frames = []  # Store recorded audio frames\n",
    "\n",
    "def record_audio():\n",
    "    \"\"\"Records audio in a separate thread and stops when the flag changes\"\"\"\n",
    "    global recording, audio_frames, filename ##file name is added by me##\n",
    "    audio_frames = []  # Reset frames before recording\n",
    "\n",
    "    # Generate a unique filename with timestamp\n",
    "    filename = os.path.join(save_directory, f\"recording_{datetime.now().strftime('%Y%m%d_%H%M%S')}.wav\")\n",
    "    \n",
    "    \n",
    "    # Start recording\n",
    "    status_label.config(text=\"Recording... Click 'Stop Recording' to finish.\", fg=\"red\")\n",
    "    root.update()\n",
    "\n",
    "    with sd.InputStream(samplerate=SAMPLE_RATE, channels=CHANNELS, dtype=np.int16) as stream:\n",
    "        while recording:  # Keep recording until stopped\n",
    "            data, _ = stream.read(1024)  # Read small chunks of audio\n",
    "            audio_frames.append(data)\n",
    "\n",
    "    # Save the recorded data as a .wav file\n",
    "    with wave.open(filename, \"wb\") as wf:\n",
    "        wf.setnchannels(CHANNELS)\n",
    "        wf.setsampwidth(2)  # 16-bit audio\n",
    "        wf.setframerate(SAMPLE_RATE)\n",
    "        wf.writeframes(b''.join(audio_frames))\n",
    "\n",
    "    status_label.config(text=f\"Recording saved: {filename}\", fg=\"green\")\n",
    "\n",
    "def start_recording():\n",
    "    \"\"\"Starts recording in a separate thread\"\"\"\n",
    "    global recording\n",
    "    if not recording:\n",
    "        recording = True\n",
    "        threading.Thread(target=record_audio, daemon=True).start()\n",
    "        status_label.config(text=\"Recording started...\", fg=\"blue\")\n",
    "\n",
    "def stop_recording():\n",
    "    \"\"\"Stops the recording\"\"\"\n",
    "    global recording\n",
    "    recording = False  # Update flag so the while loop in record_audio() stops\n",
    "    status_label.config(text=\"Stopping... Please wait.\", fg=\"orange\")\n",
    "\n",
    "# Create the GUI window\n",
    "root = tk.Tk()\n",
    "root.title(\"Voice Recorder\")\n",
    "root.geometry(\"500x500+500+200\")\n",
    "# Buttons for Start and Stop Recording\n",
    "image = Image.open(\"download.png\")\n",
    "image = image.resize((200, 100))  # Resize image if needed\n",
    "photo = ImageTk.PhotoImage(image)\n",
    "label = tk.Label(root, image=photo)\n",
    "label.place(x = 10, y=10)\n",
    "\n",
    "image2 = Image.open(\"64200f5fcc09c9f0e9c2aff0_download.png\")\n",
    "image2 = image2.resize((200, 100))  # Resize image if needed\n",
    "photo2 = ImageTk.PhotoImage(image2)\n",
    "label2 = tk.Label(root, image=photo2)\n",
    "label2.place(x = 290, y= 10)\n",
    "\n",
    "start_button = tk.Button(root, text=\"Start Recording\", command=start_recording, activebackground= 'white',\n",
    "                        activeforeground= 'black' ,font=(\"Arial\", 14), bg=\"green\", fg=\"white\", cursor= 'hand2',\n",
    "                        disabledforeground='gray' ,padx=10, pady=15)\n",
    "start_button.place(relx= 0.3, rely= 0.3, x = 10, y=30)\n",
    "\n",
    "stop_button = tk.Button(root, text=\"Stop Recording\", command=stop_recording, font=(\"Arial\", 14), \n",
    "                        bg=\"red\", fg=\"white\", cursor= 'hand2' ,padx=10, pady=15)\n",
    "stop_button.place(relx= 0.3, rely= 0.3, x= 10, y=110)\n",
    "\n",
    "# Label to display status\n",
    "status_label = tk.Label(root, text=\"Press 'Start Recording' to begin.\", font=(\"Arial\", 12))\n",
    "status_label.place(relx= 0.3, rely= 0.3 ,x = -1, y=200)\n",
    "\n",
    "# Run the GUI application\n",
    "root.mainloop()\n"
   ]
  },
  {
   "cell_type": "markdown",
   "metadata": {},
   "source": [
    "# Changing speech to text"
   ]
  },
  {
   "cell_type": "code",
   "execution_count": 10,
   "metadata": {},
   "outputs": [
    {
     "ename": "NameError",
     "evalue": "name 'filename' is not defined",
     "output_type": "error",
     "traceback": [
      "\u001b[1;31m---------------------------------------------------------------------------\u001b[0m",
      "\u001b[1;31mNameError\u001b[0m                                 Traceback (most recent call last)",
      "Cell \u001b[1;32mIn[10], line 4\u001b[0m\n\u001b[0;32m      1\u001b[0m recognizer \u001b[38;5;241m=\u001b[39m sr\u001b[38;5;241m.\u001b[39mRecognizer()\n\u001b[0;32m      2\u001b[0m \u001b[38;5;66;03m# \"C:/Users/Omid/Desktop/MDTE/Challenge 2/New Recording 3.m4a\"\u001b[39;00m\n\u001b[0;32m      3\u001b[0m \u001b[38;5;66;03m# Load WAV file\u001b[39;00m\n\u001b[1;32m----> 4\u001b[0m audio_file \u001b[38;5;241m=\u001b[39m \u001b[43mfilename\u001b[49m\n\u001b[0;32m      6\u001b[0m \u001b[38;5;28;01mwith\u001b[39;00m sr\u001b[38;5;241m.\u001b[39mAudioFile(audio_file) \u001b[38;5;28;01mas\u001b[39;00m source:\n\u001b[0;32m      7\u001b[0m     audio \u001b[38;5;241m=\u001b[39m recognizer\u001b[38;5;241m.\u001b[39mrecord(source)  \u001b[38;5;66;03m# Read the entire file\u001b[39;00m\n",
      "\u001b[1;31mNameError\u001b[0m: name 'filename' is not defined"
     ]
    }
   ],
   "source": [
    "recognizer = sr.Recognizer()\n",
    "# \"C:/Users/Omid/Desktop/MDTE/Challenge 2/New Recording 3.m4a\"\n",
    "# Load WAV file\n",
    "audio_file = filename\n",
    "\n",
    "with sr.AudioFile(audio_file) as source:\n",
    "    audio = recognizer.record(source)  # Read the entire file\n",
    "\n",
    "# Convert to text using Google Speech API\n",
    "try:\n",
    "    text = recognizer.recognize_google(audio)\n",
    "    print(\"Transcribed Text:\", text)\n",
    "except sr.UnknownValueError:\n",
    "    print(\"Could not understand audio\")\n",
    "except sr.RequestError:\n",
    "    print(\"Could not request results\")\n"
   ]
  },
  {
   "cell_type": "code",
   "execution_count": null,
   "metadata": {},
   "outputs": [],
   "source": [
    "# Splitting the text file base on spaces in the data\n",
    "texlist=text.split(' ')\n",
    "for i in texlist:\n",
    "    if i in Name_list:\n",
    "        #voice_name_list.append(i)\n",
    "        voice_name_list.append(i)\n",
    "\n",
    "for i in texlist:\n",
    "    if i in disease:\n",
    "        recoreded_disease.append(i)\n",
    "        \n",
    "print(voice_name_list)\n",
    "print()\n",
    "print(recoreded_disease)"
   ]
  },
  {
   "cell_type": "code",
   "execution_count": null,
   "metadata": {},
   "outputs": [],
   "source": [
    "# new_record = ''.join(voice_name_list)\n",
    "# new_data = pd.DataFrame({\"name\" : voice_name_list, \"Disease\" : recoreded_disease})\n",
    "# if os.path.exists('data.csv'):\n",
    "#     # Append new data (without rewriting the header)\n",
    "#     new_data.to_csv('data.csv', mode='a', index=False, header=False)\n",
    "# else:\n",
    "#     # Create new file with headers\n",
    "#     new_data.to_csv('data.csv', index=False)"
   ]
  }
 ],
 "metadata": {
  "kernelspec": {
   "display_name": "Python 3",
   "language": "python",
   "name": "python3"
  },
  "language_info": {
   "codemirror_mode": {
    "name": "ipython",
    "version": 3
   },
   "file_extension": ".py",
   "mimetype": "text/x-python",
   "name": "python",
   "nbconvert_exporter": "python",
   "pygments_lexer": "ipython3",
   "version": "3.10.0"
  }
 },
 "nbformat": 4,
 "nbformat_minor": 2
}
